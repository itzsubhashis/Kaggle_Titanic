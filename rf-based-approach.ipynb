{
 "cells": [
  {
   "cell_type": "code",
   "execution_count": 1,
   "id": "ac26d67a",
   "metadata": {
    "_cell_guid": "b1076dfc-b9ad-4769-8c92-a6c4dae69d19",
    "_uuid": "8f2839f25d086af736a60e9eeb907d3b93b6e0e5",
    "execution": {
     "iopub.execute_input": "2023-03-12T12:49:20.202932Z",
     "iopub.status.busy": "2023-03-12T12:49:20.202495Z",
     "iopub.status.idle": "2023-03-12T12:49:20.218989Z",
     "shell.execute_reply": "2023-03-12T12:49:20.217074Z"
    },
    "papermill": {
     "duration": 0.026954,
     "end_time": "2023-03-12T12:49:20.221765",
     "exception": false,
     "start_time": "2023-03-12T12:49:20.194811",
     "status": "completed"
    },
    "tags": []
   },
   "outputs": [
    {
     "name": "stdout",
     "output_type": "stream",
     "text": [
      "/kaggle/input/titanic/train.csv\n",
      "/kaggle/input/titanic/test.csv\n",
      "/kaggle/input/titanic/gender_submission.csv\n"
     ]
    }
   ],
   "source": [
    "# This Python 3 environment comes with many helpful analytics libraries installed\n",
    "# It is defined by the kaggle/python Docker image: https://github.com/kaggle/docker-python\n",
    "# For example, here's several helpful packages to load\n",
    "\n",
    "import numpy as np # linear algebra\n",
    "import pandas as pd # data processing, CSV file I/O (e.g. pd.read_csv)\n",
    "\n",
    "# Input data files are available in the read-only \"../input/\" directory\n",
    "# For example, running this (by clicking run or pressing Shift+Enter) will list all files under the input directory\n",
    "\n",
    "import os\n",
    "for dirname, _, filenames in os.walk('/kaggle/input'):\n",
    "    for filename in filenames:\n",
    "        print(os.path.join(dirname, filename))\n",
    "\n",
    "# You can write up to 20GB to the current directory (/kaggle/working/) that gets preserved as output when you create a version using \"Save & Run All\" \n",
    "# You can also write temporary files to /kaggle/temp/, but they won't be saved outside of the current session"
   ]
  },
  {
   "cell_type": "code",
   "execution_count": 2,
   "id": "46ab56a7",
   "metadata": {
    "execution": {
     "iopub.execute_input": "2023-03-12T12:49:20.233682Z",
     "iopub.status.busy": "2023-03-12T12:49:20.233258Z",
     "iopub.status.idle": "2023-03-12T12:49:21.350457Z",
     "shell.execute_reply": "2023-03-12T12:49:21.349072Z"
    },
    "papermill": {
     "duration": 1.126269,
     "end_time": "2023-03-12T12:49:21.353114",
     "exception": false,
     "start_time": "2023-03-12T12:49:20.226845",
     "status": "completed"
    },
    "tags": []
   },
   "outputs": [
    {
     "data": {
      "text/html": [
       "<div>\n",
       "<style scoped>\n",
       "    .dataframe tbody tr th:only-of-type {\n",
       "        vertical-align: middle;\n",
       "    }\n",
       "\n",
       "    .dataframe tbody tr th {\n",
       "        vertical-align: top;\n",
       "    }\n",
       "\n",
       "    .dataframe thead th {\n",
       "        text-align: right;\n",
       "    }\n",
       "</style>\n",
       "<table border=\"1\" class=\"dataframe\">\n",
       "  <thead>\n",
       "    <tr style=\"text-align: right;\">\n",
       "      <th></th>\n",
       "      <th>PassengerId</th>\n",
       "      <th>Survived</th>\n",
       "      <th>Pclass</th>\n",
       "      <th>Name</th>\n",
       "      <th>Sex</th>\n",
       "      <th>Age</th>\n",
       "      <th>SibSp</th>\n",
       "      <th>Parch</th>\n",
       "      <th>Ticket</th>\n",
       "      <th>Fare</th>\n",
       "      <th>Cabin</th>\n",
       "      <th>Embarked</th>\n",
       "    </tr>\n",
       "  </thead>\n",
       "  <tbody>\n",
       "    <tr>\n",
       "      <th>0</th>\n",
       "      <td>1</td>\n",
       "      <td>0</td>\n",
       "      <td>3</td>\n",
       "      <td>Braund, Mr. Owen Harris</td>\n",
       "      <td>male</td>\n",
       "      <td>22.0</td>\n",
       "      <td>1</td>\n",
       "      <td>0</td>\n",
       "      <td>A/5 21171</td>\n",
       "      <td>7.2500</td>\n",
       "      <td>NaN</td>\n",
       "      <td>S</td>\n",
       "    </tr>\n",
       "    <tr>\n",
       "      <th>1</th>\n",
       "      <td>2</td>\n",
       "      <td>1</td>\n",
       "      <td>1</td>\n",
       "      <td>Cumings, Mrs. John Bradley (Florence Briggs Th...</td>\n",
       "      <td>female</td>\n",
       "      <td>38.0</td>\n",
       "      <td>1</td>\n",
       "      <td>0</td>\n",
       "      <td>PC 17599</td>\n",
       "      <td>71.2833</td>\n",
       "      <td>C85</td>\n",
       "      <td>C</td>\n",
       "    </tr>\n",
       "    <tr>\n",
       "      <th>2</th>\n",
       "      <td>3</td>\n",
       "      <td>1</td>\n",
       "      <td>3</td>\n",
       "      <td>Heikkinen, Miss. Laina</td>\n",
       "      <td>female</td>\n",
       "      <td>26.0</td>\n",
       "      <td>0</td>\n",
       "      <td>0</td>\n",
       "      <td>STON/O2. 3101282</td>\n",
       "      <td>7.9250</td>\n",
       "      <td>NaN</td>\n",
       "      <td>S</td>\n",
       "    </tr>\n",
       "    <tr>\n",
       "      <th>3</th>\n",
       "      <td>4</td>\n",
       "      <td>1</td>\n",
       "      <td>1</td>\n",
       "      <td>Futrelle, Mrs. Jacques Heath (Lily May Peel)</td>\n",
       "      <td>female</td>\n",
       "      <td>35.0</td>\n",
       "      <td>1</td>\n",
       "      <td>0</td>\n",
       "      <td>113803</td>\n",
       "      <td>53.1000</td>\n",
       "      <td>C123</td>\n",
       "      <td>S</td>\n",
       "    </tr>\n",
       "    <tr>\n",
       "      <th>4</th>\n",
       "      <td>5</td>\n",
       "      <td>0</td>\n",
       "      <td>3</td>\n",
       "      <td>Allen, Mr. William Henry</td>\n",
       "      <td>male</td>\n",
       "      <td>35.0</td>\n",
       "      <td>0</td>\n",
       "      <td>0</td>\n",
       "      <td>373450</td>\n",
       "      <td>8.0500</td>\n",
       "      <td>NaN</td>\n",
       "      <td>S</td>\n",
       "    </tr>\n",
       "  </tbody>\n",
       "</table>\n",
       "</div>"
      ],
      "text/plain": [
       "   PassengerId  Survived  Pclass  \\\n",
       "0            1         0       3   \n",
       "1            2         1       1   \n",
       "2            3         1       3   \n",
       "3            4         1       1   \n",
       "4            5         0       3   \n",
       "\n",
       "                                                Name     Sex   Age  SibSp  \\\n",
       "0                            Braund, Mr. Owen Harris    male  22.0      1   \n",
       "1  Cumings, Mrs. John Bradley (Florence Briggs Th...  female  38.0      1   \n",
       "2                             Heikkinen, Miss. Laina  female  26.0      0   \n",
       "3       Futrelle, Mrs. Jacques Heath (Lily May Peel)  female  35.0      1   \n",
       "4                           Allen, Mr. William Henry    male  35.0      0   \n",
       "\n",
       "   Parch            Ticket     Fare Cabin Embarked  \n",
       "0      0         A/5 21171   7.2500   NaN        S  \n",
       "1      0          PC 17599  71.2833   C85        C  \n",
       "2      0  STON/O2. 3101282   7.9250   NaN        S  \n",
       "3      0            113803  53.1000  C123        S  \n",
       "4      0            373450   8.0500   NaN        S  "
      ]
     },
     "execution_count": 2,
     "metadata": {},
     "output_type": "execute_result"
    }
   ],
   "source": [
    "from sklearn.metrics import accuracy_score\n",
    "df=pd.read_csv('/kaggle/input/titanic/train.csv')\n",
    "df.head()"
   ]
  },
  {
   "cell_type": "code",
   "execution_count": 3,
   "id": "b2ac458c",
   "metadata": {
    "execution": {
     "iopub.execute_input": "2023-03-12T12:49:21.365649Z",
     "iopub.status.busy": "2023-03-12T12:49:21.364516Z",
     "iopub.status.idle": "2023-03-12T12:49:21.389185Z",
     "shell.execute_reply": "2023-03-12T12:49:21.387707Z"
    },
    "papermill": {
     "duration": 0.034104,
     "end_time": "2023-03-12T12:49:21.392318",
     "exception": false,
     "start_time": "2023-03-12T12:49:21.358214",
     "status": "completed"
    },
    "tags": []
   },
   "outputs": [],
   "source": [
    "df['Cabin']=df['Cabin'].fillna('')\n",
    "df[['Cabin_block', 'Cabin_number']] = df['Cabin'].str.extract(r'(\\D)(\\d+)')\n",
    "df['Cabin_block']=df['Cabin_block'].replace(['C', 'E', 'G', 'D', 'A', 'B', 'F'], [1, 2, 3, 4, 5, 6, 7])\n",
    "df['Cabin_block']=df['Cabin_block'].fillna(0)\n",
    "df['Cabin_block'].unique()\n",
    "df['Cabin_number']=df['Cabin_number'].fillna(0)\n"
   ]
  },
  {
   "cell_type": "code",
   "execution_count": 4,
   "id": "effb0896",
   "metadata": {
    "execution": {
     "iopub.execute_input": "2023-03-12T12:49:21.404417Z",
     "iopub.status.busy": "2023-03-12T12:49:21.403932Z",
     "iopub.status.idle": "2023-03-12T12:49:21.414900Z",
     "shell.execute_reply": "2023-03-12T12:49:21.413752Z"
    },
    "papermill": {
     "duration": 0.02004,
     "end_time": "2023-03-12T12:49:21.417496",
     "exception": false,
     "start_time": "2023-03-12T12:49:21.397456",
     "status": "completed"
    },
    "tags": []
   },
   "outputs": [],
   "source": [
    "del df['Fare']\n",
    "del df['Ticket']\n",
    "del df['Name']\n",
    "del df['Cabin']\n",
    "del df['PassengerId']"
   ]
  },
  {
   "cell_type": "code",
   "execution_count": 5,
   "id": "a4379e27",
   "metadata": {
    "execution": {
     "iopub.execute_input": "2023-03-12T12:49:21.429399Z",
     "iopub.status.busy": "2023-03-12T12:49:21.428967Z",
     "iopub.status.idle": "2023-03-12T12:49:21.445169Z",
     "shell.execute_reply": "2023-03-12T12:49:21.443951Z"
    },
    "papermill": {
     "duration": 0.025403,
     "end_time": "2023-03-12T12:49:21.448104",
     "exception": false,
     "start_time": "2023-03-12T12:49:21.422701",
     "status": "completed"
    },
    "tags": []
   },
   "outputs": [
    {
     "data": {
      "text/html": [
       "<div>\n",
       "<style scoped>\n",
       "    .dataframe tbody tr th:only-of-type {\n",
       "        vertical-align: middle;\n",
       "    }\n",
       "\n",
       "    .dataframe tbody tr th {\n",
       "        vertical-align: top;\n",
       "    }\n",
       "\n",
       "    .dataframe thead th {\n",
       "        text-align: right;\n",
       "    }\n",
       "</style>\n",
       "<table border=\"1\" class=\"dataframe\">\n",
       "  <thead>\n",
       "    <tr style=\"text-align: right;\">\n",
       "      <th></th>\n",
       "      <th>Survived</th>\n",
       "      <th>Pclass</th>\n",
       "      <th>Sex</th>\n",
       "      <th>Age</th>\n",
       "      <th>SibSp</th>\n",
       "      <th>Parch</th>\n",
       "      <th>Embarked</th>\n",
       "      <th>Cabin_block</th>\n",
       "      <th>Cabin_number</th>\n",
       "    </tr>\n",
       "  </thead>\n",
       "  <tbody>\n",
       "    <tr>\n",
       "      <th>0</th>\n",
       "      <td>0</td>\n",
       "      <td>3</td>\n",
       "      <td>male</td>\n",
       "      <td>22.0</td>\n",
       "      <td>1</td>\n",
       "      <td>0</td>\n",
       "      <td>S</td>\n",
       "      <td>0.0</td>\n",
       "      <td>0</td>\n",
       "    </tr>\n",
       "    <tr>\n",
       "      <th>1</th>\n",
       "      <td>1</td>\n",
       "      <td>1</td>\n",
       "      <td>female</td>\n",
       "      <td>38.0</td>\n",
       "      <td>1</td>\n",
       "      <td>0</td>\n",
       "      <td>C</td>\n",
       "      <td>1.0</td>\n",
       "      <td>85</td>\n",
       "    </tr>\n",
       "    <tr>\n",
       "      <th>2</th>\n",
       "      <td>1</td>\n",
       "      <td>3</td>\n",
       "      <td>female</td>\n",
       "      <td>26.0</td>\n",
       "      <td>0</td>\n",
       "      <td>0</td>\n",
       "      <td>S</td>\n",
       "      <td>0.0</td>\n",
       "      <td>0</td>\n",
       "    </tr>\n",
       "    <tr>\n",
       "      <th>3</th>\n",
       "      <td>1</td>\n",
       "      <td>1</td>\n",
       "      <td>female</td>\n",
       "      <td>35.0</td>\n",
       "      <td>1</td>\n",
       "      <td>0</td>\n",
       "      <td>S</td>\n",
       "      <td>1.0</td>\n",
       "      <td>123</td>\n",
       "    </tr>\n",
       "    <tr>\n",
       "      <th>4</th>\n",
       "      <td>0</td>\n",
       "      <td>3</td>\n",
       "      <td>male</td>\n",
       "      <td>35.0</td>\n",
       "      <td>0</td>\n",
       "      <td>0</td>\n",
       "      <td>S</td>\n",
       "      <td>0.0</td>\n",
       "      <td>0</td>\n",
       "    </tr>\n",
       "  </tbody>\n",
       "</table>\n",
       "</div>"
      ],
      "text/plain": [
       "   Survived  Pclass     Sex   Age  SibSp  Parch Embarked  Cabin_block  \\\n",
       "0         0       3    male  22.0      1      0        S          0.0   \n",
       "1         1       1  female  38.0      1      0        C          1.0   \n",
       "2         1       3  female  26.0      0      0        S          0.0   \n",
       "3         1       1  female  35.0      1      0        S          1.0   \n",
       "4         0       3    male  35.0      0      0        S          0.0   \n",
       "\n",
       "  Cabin_number  \n",
       "0            0  \n",
       "1           85  \n",
       "2            0  \n",
       "3          123  \n",
       "4            0  "
      ]
     },
     "execution_count": 5,
     "metadata": {},
     "output_type": "execute_result"
    }
   ],
   "source": [
    "df.head()"
   ]
  },
  {
   "cell_type": "code",
   "execution_count": 6,
   "id": "29d61c82",
   "metadata": {
    "execution": {
     "iopub.execute_input": "2023-03-12T12:49:21.460186Z",
     "iopub.status.busy": "2023-03-12T12:49:21.459799Z",
     "iopub.status.idle": "2023-03-12T12:49:21.473097Z",
     "shell.execute_reply": "2023-03-12T12:49:21.471844Z"
    },
    "papermill": {
     "duration": 0.022266,
     "end_time": "2023-03-12T12:49:21.475615",
     "exception": false,
     "start_time": "2023-03-12T12:49:21.453349",
     "status": "completed"
    },
    "tags": []
   },
   "outputs": [],
   "source": [
    "df['Embarked']=df['Embarked'].fillna(0)\n",
    "df['Embarked']=df['Embarked'].replace(['S', 'C', 'Q'], [1, 2, 3])\n",
    "df['Embarked'].unique()\n",
    "df['Sex']=df['Sex'].replace(['male', 'female'], [1, 2])\n",
    "\n",
    "df['Age']=df['Age'].fillna(0)"
   ]
  },
  {
   "cell_type": "code",
   "execution_count": 7,
   "id": "b6ad757e",
   "metadata": {
    "execution": {
     "iopub.execute_input": "2023-03-12T12:49:21.488240Z",
     "iopub.status.busy": "2023-03-12T12:49:21.487854Z",
     "iopub.status.idle": "2023-03-12T12:49:21.517353Z",
     "shell.execute_reply": "2023-03-12T12:49:21.516282Z"
    },
    "papermill": {
     "duration": 0.038871,
     "end_time": "2023-03-12T12:49:21.520118",
     "exception": false,
     "start_time": "2023-03-12T12:49:21.481247",
     "status": "completed"
    },
    "tags": []
   },
   "outputs": [],
   "source": [
    "from sklearn.model_selection import train_test_split\n",
    "train_df, test_df = train_test_split(df, test_size=0.2, random_state=42)\n",
    "Y=train_df['Survived'].astype(int)\n",
    "X=train_df.loc[:, df.columns != 'Survived']"
   ]
  },
  {
   "cell_type": "code",
   "execution_count": 8,
   "id": "7891ed06",
   "metadata": {
    "execution": {
     "iopub.execute_input": "2023-03-12T12:49:21.532792Z",
     "iopub.status.busy": "2023-03-12T12:49:21.532006Z",
     "iopub.status.idle": "2023-03-12T12:49:21.546940Z",
     "shell.execute_reply": "2023-03-12T12:49:21.545701Z"
    },
    "papermill": {
     "duration": 0.023952,
     "end_time": "2023-03-12T12:49:21.549517",
     "exception": false,
     "start_time": "2023-03-12T12:49:21.525565",
     "status": "completed"
    },
    "tags": []
   },
   "outputs": [
    {
     "data": {
      "text/html": [
       "<div>\n",
       "<style scoped>\n",
       "    .dataframe tbody tr th:only-of-type {\n",
       "        vertical-align: middle;\n",
       "    }\n",
       "\n",
       "    .dataframe tbody tr th {\n",
       "        vertical-align: top;\n",
       "    }\n",
       "\n",
       "    .dataframe thead th {\n",
       "        text-align: right;\n",
       "    }\n",
       "</style>\n",
       "<table border=\"1\" class=\"dataframe\">\n",
       "  <thead>\n",
       "    <tr style=\"text-align: right;\">\n",
       "      <th></th>\n",
       "      <th>Pclass</th>\n",
       "      <th>Sex</th>\n",
       "      <th>Age</th>\n",
       "      <th>SibSp</th>\n",
       "      <th>Parch</th>\n",
       "      <th>Embarked</th>\n",
       "      <th>Cabin_block</th>\n",
       "      <th>Cabin_number</th>\n",
       "    </tr>\n",
       "  </thead>\n",
       "  <tbody>\n",
       "    <tr>\n",
       "      <th>331</th>\n",
       "      <td>1</td>\n",
       "      <td>1</td>\n",
       "      <td>45.5</td>\n",
       "      <td>0</td>\n",
       "      <td>0</td>\n",
       "      <td>1</td>\n",
       "      <td>1.0</td>\n",
       "      <td>124</td>\n",
       "    </tr>\n",
       "    <tr>\n",
       "      <th>733</th>\n",
       "      <td>2</td>\n",
       "      <td>1</td>\n",
       "      <td>23.0</td>\n",
       "      <td>0</td>\n",
       "      <td>0</td>\n",
       "      <td>1</td>\n",
       "      <td>0.0</td>\n",
       "      <td>0</td>\n",
       "    </tr>\n",
       "    <tr>\n",
       "      <th>382</th>\n",
       "      <td>3</td>\n",
       "      <td>1</td>\n",
       "      <td>32.0</td>\n",
       "      <td>0</td>\n",
       "      <td>0</td>\n",
       "      <td>1</td>\n",
       "      <td>0.0</td>\n",
       "      <td>0</td>\n",
       "    </tr>\n",
       "    <tr>\n",
       "      <th>704</th>\n",
       "      <td>3</td>\n",
       "      <td>1</td>\n",
       "      <td>26.0</td>\n",
       "      <td>1</td>\n",
       "      <td>0</td>\n",
       "      <td>1</td>\n",
       "      <td>0.0</td>\n",
       "      <td>0</td>\n",
       "    </tr>\n",
       "    <tr>\n",
       "      <th>813</th>\n",
       "      <td>3</td>\n",
       "      <td>2</td>\n",
       "      <td>6.0</td>\n",
       "      <td>4</td>\n",
       "      <td>2</td>\n",
       "      <td>1</td>\n",
       "      <td>0.0</td>\n",
       "      <td>0</td>\n",
       "    </tr>\n",
       "  </tbody>\n",
       "</table>\n",
       "</div>"
      ],
      "text/plain": [
       "     Pclass  Sex   Age  SibSp  Parch  Embarked  Cabin_block Cabin_number\n",
       "331       1    1  45.5      0      0         1          1.0          124\n",
       "733       2    1  23.0      0      0         1          0.0            0\n",
       "382       3    1  32.0      0      0         1          0.0            0\n",
       "704       3    1  26.0      1      0         1          0.0            0\n",
       "813       3    2   6.0      4      2         1          0.0            0"
      ]
     },
     "execution_count": 8,
     "metadata": {},
     "output_type": "execute_result"
    }
   ],
   "source": [
    "X.head()"
   ]
  },
  {
   "cell_type": "code",
   "execution_count": 9,
   "id": "b7626777",
   "metadata": {
    "execution": {
     "iopub.execute_input": "2023-03-12T12:49:21.562261Z",
     "iopub.status.busy": "2023-03-12T12:49:21.561641Z",
     "iopub.status.idle": "2023-03-12T12:50:16.879991Z",
     "shell.execute_reply": "2023-03-12T12:50:16.878571Z"
    },
    "papermill": {
     "duration": 55.32793,
     "end_time": "2023-03-12T12:50:16.882965",
     "exception": false,
     "start_time": "2023-03-12T12:49:21.555035",
     "status": "completed"
    },
    "tags": []
   },
   "outputs": [],
   "source": [
    "from sklearn.ensemble import RandomForestClassifier\n",
    "rf = RandomForestClassifier(n_estimators=30000, random_state=1).fit(X,Y)"
   ]
  },
  {
   "cell_type": "code",
   "execution_count": 10,
   "id": "cbc881c9",
   "metadata": {
    "execution": {
     "iopub.execute_input": "2023-03-12T12:50:16.896351Z",
     "iopub.status.busy": "2023-03-12T12:50:16.895458Z",
     "iopub.status.idle": "2023-03-12T12:50:21.419907Z",
     "shell.execute_reply": "2023-03-12T12:50:21.418386Z"
    },
    "papermill": {
     "duration": 4.533865,
     "end_time": "2023-03-12T12:50:21.422506",
     "exception": false,
     "start_time": "2023-03-12T12:50:16.888641",
     "status": "completed"
    },
    "tags": []
   },
   "outputs": [
    {
     "name": "stdout",
     "output_type": "stream",
     "text": [
      "The accuracy is: 0.80\n"
     ]
    }
   ],
   "source": [
    "Y_test=test_df['Survived'].astype(int)\n",
    "X_test=test_df.loc[:, df.columns != 'Survived']\n",
    "\n",
    "predictions = rf.predict(X_test)\n",
    "accuracy = accuracy_score(Y_test, predictions)\n",
    "print(f'The accuracy is: {accuracy:.2f}')"
   ]
  },
  {
   "cell_type": "code",
   "execution_count": 11,
   "id": "cb4a6973",
   "metadata": {
    "execution": {
     "iopub.execute_input": "2023-03-12T12:50:21.435242Z",
     "iopub.status.busy": "2023-03-12T12:50:21.434854Z",
     "iopub.status.idle": "2023-03-12T12:50:21.447925Z",
     "shell.execute_reply": "2023-03-12T12:50:21.446951Z"
    },
    "papermill": {
     "duration": 0.022446,
     "end_time": "2023-03-12T12:50:21.450413",
     "exception": false,
     "start_time": "2023-03-12T12:50:21.427967",
     "status": "completed"
    },
    "tags": []
   },
   "outputs": [],
   "source": [
    "df_test=pd.read_csv('/kaggle/input/titanic/test.csv')\n"
   ]
  },
  {
   "cell_type": "code",
   "execution_count": 12,
   "id": "02046dd5",
   "metadata": {
    "execution": {
     "iopub.execute_input": "2023-03-12T12:50:21.463276Z",
     "iopub.status.busy": "2023-03-12T12:50:21.462878Z",
     "iopub.status.idle": "2023-03-12T12:50:21.485008Z",
     "shell.execute_reply": "2023-03-12T12:50:21.483776Z"
    },
    "papermill": {
     "duration": 0.031714,
     "end_time": "2023-03-12T12:50:21.487713",
     "exception": false,
     "start_time": "2023-03-12T12:50:21.455999",
     "status": "completed"
    },
    "tags": []
   },
   "outputs": [],
   "source": [
    "df_test['Cabin']=df_test['Cabin'].fillna('')\n",
    "df_test[['Cabin_block', 'Cabin_number']] = df_test['Cabin'].str.extract(r'(\\D)(\\d+)')\n",
    "df_test['Cabin_block']=df_test['Cabin_block'].replace(['C', 'E', 'G', 'D', 'A', 'B', 'F'], [1, 2, 3, 4, 5, 6, 7])\n",
    "df_test['Cabin_block']=df_test['Cabin_block'].fillna(0)\n",
    "df_test['Cabin_block'].unique()\n",
    "df_test['Cabin_number']=df_test['Cabin_number'].fillna(0)\n",
    "df_test['Embarked']=df_test['Embarked'].fillna(0)\n",
    "df_test['Embarked']=df_test['Embarked'].replace(['S', 'C', 'Q'], [1, 2, 3])\n",
    "df_test['Embarked'].unique()\n",
    "df_test['Sex']=df_test['Sex'].replace(['male', 'female'], [1, 2])\n",
    "\n",
    "df_test['Age']=df_test['Age'].fillna(0)\n",
    "df_test['Age'].unique()\n",
    "del df_test['Fare']\n",
    "del df_test['Ticket']\n",
    "del df_test['Name']\n",
    "del df_test['Cabin']\n",
    "del df_test['PassengerId']\n"
   ]
  },
  {
   "cell_type": "code",
   "execution_count": 13,
   "id": "22049c6d",
   "metadata": {
    "execution": {
     "iopub.execute_input": "2023-03-12T12:50:21.501003Z",
     "iopub.status.busy": "2023-03-12T12:50:21.499933Z",
     "iopub.status.idle": "2023-03-12T12:50:21.514582Z",
     "shell.execute_reply": "2023-03-12T12:50:21.513377Z"
    },
    "papermill": {
     "duration": 0.024045,
     "end_time": "2023-03-12T12:50:21.517407",
     "exception": false,
     "start_time": "2023-03-12T12:50:21.493362",
     "status": "completed"
    },
    "tags": []
   },
   "outputs": [
    {
     "data": {
      "text/html": [
       "<div>\n",
       "<style scoped>\n",
       "    .dataframe tbody tr th:only-of-type {\n",
       "        vertical-align: middle;\n",
       "    }\n",
       "\n",
       "    .dataframe tbody tr th {\n",
       "        vertical-align: top;\n",
       "    }\n",
       "\n",
       "    .dataframe thead th {\n",
       "        text-align: right;\n",
       "    }\n",
       "</style>\n",
       "<table border=\"1\" class=\"dataframe\">\n",
       "  <thead>\n",
       "    <tr style=\"text-align: right;\">\n",
       "      <th></th>\n",
       "      <th>Survived</th>\n",
       "      <th>Pclass</th>\n",
       "      <th>Sex</th>\n",
       "      <th>Age</th>\n",
       "      <th>SibSp</th>\n",
       "      <th>Parch</th>\n",
       "      <th>Embarked</th>\n",
       "      <th>Cabin_block</th>\n",
       "      <th>Cabin_number</th>\n",
       "    </tr>\n",
       "  </thead>\n",
       "  <tbody>\n",
       "    <tr>\n",
       "      <th>0</th>\n",
       "      <td>0</td>\n",
       "      <td>3</td>\n",
       "      <td>1</td>\n",
       "      <td>22.0</td>\n",
       "      <td>1</td>\n",
       "      <td>0</td>\n",
       "      <td>1</td>\n",
       "      <td>0.0</td>\n",
       "      <td>0</td>\n",
       "    </tr>\n",
       "    <tr>\n",
       "      <th>1</th>\n",
       "      <td>1</td>\n",
       "      <td>1</td>\n",
       "      <td>2</td>\n",
       "      <td>38.0</td>\n",
       "      <td>1</td>\n",
       "      <td>0</td>\n",
       "      <td>2</td>\n",
       "      <td>1.0</td>\n",
       "      <td>85</td>\n",
       "    </tr>\n",
       "    <tr>\n",
       "      <th>2</th>\n",
       "      <td>1</td>\n",
       "      <td>3</td>\n",
       "      <td>2</td>\n",
       "      <td>26.0</td>\n",
       "      <td>0</td>\n",
       "      <td>0</td>\n",
       "      <td>1</td>\n",
       "      <td>0.0</td>\n",
       "      <td>0</td>\n",
       "    </tr>\n",
       "    <tr>\n",
       "      <th>3</th>\n",
       "      <td>1</td>\n",
       "      <td>1</td>\n",
       "      <td>2</td>\n",
       "      <td>35.0</td>\n",
       "      <td>1</td>\n",
       "      <td>0</td>\n",
       "      <td>1</td>\n",
       "      <td>1.0</td>\n",
       "      <td>123</td>\n",
       "    </tr>\n",
       "    <tr>\n",
       "      <th>4</th>\n",
       "      <td>0</td>\n",
       "      <td>3</td>\n",
       "      <td>1</td>\n",
       "      <td>35.0</td>\n",
       "      <td>0</td>\n",
       "      <td>0</td>\n",
       "      <td>1</td>\n",
       "      <td>0.0</td>\n",
       "      <td>0</td>\n",
       "    </tr>\n",
       "  </tbody>\n",
       "</table>\n",
       "</div>"
      ],
      "text/plain": [
       "   Survived  Pclass  Sex   Age  SibSp  Parch  Embarked  Cabin_block  \\\n",
       "0         0       3    1  22.0      1      0         1          0.0   \n",
       "1         1       1    2  38.0      1      0         2          1.0   \n",
       "2         1       3    2  26.0      0      0         1          0.0   \n",
       "3         1       1    2  35.0      1      0         1          1.0   \n",
       "4         0       3    1  35.0      0      0         1          0.0   \n",
       "\n",
       "  Cabin_number  \n",
       "0            0  \n",
       "1           85  \n",
       "2            0  \n",
       "3          123  \n",
       "4            0  "
      ]
     },
     "execution_count": 13,
     "metadata": {},
     "output_type": "execute_result"
    }
   ],
   "source": [
    "df.head()"
   ]
  },
  {
   "cell_type": "code",
   "execution_count": 14,
   "id": "3dbd3f65",
   "metadata": {
    "execution": {
     "iopub.execute_input": "2023-03-12T12:50:21.532069Z",
     "iopub.status.busy": "2023-03-12T12:50:21.531464Z",
     "iopub.status.idle": "2023-03-12T12:50:27.440868Z",
     "shell.execute_reply": "2023-03-12T12:50:27.439690Z"
    },
    "papermill": {
     "duration": 5.919628,
     "end_time": "2023-03-12T12:50:27.443775",
     "exception": false,
     "start_time": "2023-03-12T12:50:21.524147",
     "status": "completed"
    },
    "tags": []
   },
   "outputs": [],
   "source": [
    "predict=rf.predict(df_test)"
   ]
  },
  {
   "cell_type": "code",
   "execution_count": 15,
   "id": "a636926d",
   "metadata": {
    "execution": {
     "iopub.execute_input": "2023-03-12T12:50:27.457560Z",
     "iopub.status.busy": "2023-03-12T12:50:27.457132Z",
     "iopub.status.idle": "2023-03-12T12:50:27.473670Z",
     "shell.execute_reply": "2023-03-12T12:50:27.472429Z"
    },
    "papermill": {
     "duration": 0.02659,
     "end_time": "2023-03-12T12:50:27.476262",
     "exception": false,
     "start_time": "2023-03-12T12:50:27.449672",
     "status": "completed"
    },
    "tags": []
   },
   "outputs": [
    {
     "data": {
      "text/html": [
       "<div>\n",
       "<style scoped>\n",
       "    .dataframe tbody tr th:only-of-type {\n",
       "        vertical-align: middle;\n",
       "    }\n",
       "\n",
       "    .dataframe tbody tr th {\n",
       "        vertical-align: top;\n",
       "    }\n",
       "\n",
       "    .dataframe thead th {\n",
       "        text-align: right;\n",
       "    }\n",
       "</style>\n",
       "<table border=\"1\" class=\"dataframe\">\n",
       "  <thead>\n",
       "    <tr style=\"text-align: right;\">\n",
       "      <th></th>\n",
       "      <th>PassengerId</th>\n",
       "      <th>Survived</th>\n",
       "    </tr>\n",
       "  </thead>\n",
       "  <tbody>\n",
       "    <tr>\n",
       "      <th>0</th>\n",
       "      <td>892</td>\n",
       "      <td>0</td>\n",
       "    </tr>\n",
       "    <tr>\n",
       "      <th>1</th>\n",
       "      <td>893</td>\n",
       "      <td>0</td>\n",
       "    </tr>\n",
       "    <tr>\n",
       "      <th>2</th>\n",
       "      <td>894</td>\n",
       "      <td>0</td>\n",
       "    </tr>\n",
       "    <tr>\n",
       "      <th>3</th>\n",
       "      <td>895</td>\n",
       "      <td>1</td>\n",
       "    </tr>\n",
       "    <tr>\n",
       "      <th>4</th>\n",
       "      <td>896</td>\n",
       "      <td>0</td>\n",
       "    </tr>\n",
       "  </tbody>\n",
       "</table>\n",
       "</div>"
      ],
      "text/plain": [
       "   PassengerId  Survived\n",
       "0          892         0\n",
       "1          893         0\n",
       "2          894         0\n",
       "3          895         1\n",
       "4          896         0"
      ]
     },
     "execution_count": 15,
     "metadata": {},
     "output_type": "execute_result"
    }
   ],
   "source": [
    "df_test=pd.read_csv('/kaggle/input/titanic/test.csv')\n",
    "result = pd.DataFrame({'PassengerId': df_test['PassengerId'], 'Survived': predict})\n",
    "result.head()"
   ]
  },
  {
   "cell_type": "code",
   "execution_count": 16,
   "id": "59694c3a",
   "metadata": {
    "execution": {
     "iopub.execute_input": "2023-03-12T12:50:27.490460Z",
     "iopub.status.busy": "2023-03-12T12:50:27.490007Z",
     "iopub.status.idle": "2023-03-12T12:50:27.502386Z",
     "shell.execute_reply": "2023-03-12T12:50:27.501191Z"
    },
    "papermill": {
     "duration": 0.022546,
     "end_time": "2023-03-12T12:50:27.505146",
     "exception": false,
     "start_time": "2023-03-12T12:50:27.482600",
     "status": "completed"
    },
    "tags": []
   },
   "outputs": [],
   "source": [
    "result.to_csv('/kaggle/working/submissions.csv', index=False)"
   ]
  }
 ],
 "metadata": {
  "kernelspec": {
   "display_name": "Python 3",
   "language": "python",
   "name": "python3"
  },
  "language_info": {
   "codemirror_mode": {
    "name": "ipython",
    "version": 3
   },
   "file_extension": ".py",
   "mimetype": "text/x-python",
   "name": "python",
   "nbconvert_exporter": "python",
   "pygments_lexer": "ipython3",
   "version": "3.7.12"
  },
  "papermill": {
   "default_parameters": {},
   "duration": 78.594212,
   "end_time": "2023-03-12T12:50:28.335234",
   "environment_variables": {},
   "exception": null,
   "input_path": "__notebook__.ipynb",
   "output_path": "__notebook__.ipynb",
   "parameters": {},
   "start_time": "2023-03-12T12:49:09.741022",
   "version": "2.4.0"
  }
 },
 "nbformat": 4,
 "nbformat_minor": 5
}
